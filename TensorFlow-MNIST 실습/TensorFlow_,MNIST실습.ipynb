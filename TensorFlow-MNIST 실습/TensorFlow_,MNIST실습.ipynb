{
  "nbformat": 4,
  "nbformat_minor": 2,
  "metadata": {
    "colab": {
      "name": "TensorFlow-,MNIST실습.ipynb",
      "provenance": [],
      "collapsed_sections": []
    },
    "kernelspec": {
      "name": "python3",
      "display_name": "Python 3.10.1 64-bit"
    },
    "language_info": {
      "name": "python",
      "version": "3.10.1",
      "mimetype": "text/x-python",
      "codemirror_mode": {
        "name": "ipython",
        "version": 3
      },
      "pygments_lexer": "ipython3",
      "nbconvert_exporter": "python",
      "file_extension": ".py"
    },
    "accelerator": "GPU",
    "interpreter": {
      "hash": "0d060ebac2c08c844013566ec54696de7f7311bfac1f8c4d9f042287abd1f1ea"
    }
  },
  "cells": [
    {
      "cell_type": "code",
      "execution_count": 1,
      "source": [
        "%tensorflow_version 1.X\r\n",
        "import tensorflow as tf\r\n",
        "import random\r\n",
        "import pandas as pd\r\n",
        "import matplotlib.pyplot as plt\r\n",
        "import seaborn as sns\r\n",
        "from tqdm import tqdm\r\n",
        "from tensorflow.examples.tutorials.mnist import input_data\r\n",
        "tf.set_random_seed(777) # reproducibility\r\n",
        "\r\n",
        "%matplotlib inline\r\n",
        "\r\n",
        "mnist = input_data.read_data_sets(\"MNIST_data/\", one_hot=True)\r\n",
        "\r\n",
        "training_epochs = 15\r\n",
        "batch_size = 100\r\n",
        "\r\n",
        "X = tf.placeholder(tf.float32, [None, 784])\r\n",
        "Y = tf.placeholder(tf.float32, [None, 10])\r\n",
        "\r\n",
        "W1 = tf.get_variable(\"W1\", shape=[784, 256], \r\n",
        "                     initializer=tf.contrib.layers.xavier_initializer())\r\n",
        "b1 = tf.Variable(tf.random_normal([256]))\r\n",
        "L1 = tf.nn.relu(tf.matmul(X, W1) + b1)\r\n",
        "\r\n",
        "W2 = tf.get_variable(\"W2\", shape=[256, 256],\r\n",
        "                    initializer=tf.contrib.layers.xavier_initializer())\r\n",
        "b2 = tf.Variable(tf.random_normal([256]))\r\n",
        "L2 = tf.nn.relu(tf.matmul(L1, W2) + b2)\r\n",
        "\r\n",
        "W3 = tf.get_variable(\"W3\", shape=[256, 256],\r\n",
        "                    initializer=tf.contrib.layers.xavier_initializer())\r\n",
        "b3 = tf.Variable(tf.random_normal([256]))\r\n",
        "L3 = tf.nn.relu(tf.matmul(L2, W3) + b3)\r\n",
        "\r\n",
        "W4 = tf.get_variable(\"W4\", shape=[256, 256],\r\n",
        "                    initializer=tf.contrib.layers.xavier_initializer())\r\n",
        "b4 = tf.Variable(tf.random_normal([256]))\r\n",
        "L4 = tf.nn.relu(tf.matmul(L3, W4) + b4)\r\n",
        "\r\n",
        "W5 = tf.get_variable(\"W5\", shape=[256, 10],\r\n",
        "                    initializer=tf.contrib.layers.xavier_initializer())\r\n",
        "\r\n",
        "b5 = tf.Variable(tf.random_normal([10]))\r\n",
        "\r\n",
        "hypothesis = tf.matmul(L4, W5) + b5\r\n",
        "\r\n",
        "\r\n",
        "#\r\n",
        "cost = tf.reduce_mean(tf.nn.softmax_cross_entropy_with_logits(logits=hypothesis, labels=Y))\r\n",
        "optimizer = tf.train.AdamOptimizer(learning_rate=0.001).minimize(cost)\r\n",
        "\r\n",
        "prediction = tf.equal(tf.argmax(hypothesis, 1), tf.argmax(Y, 1))\r\n",
        "accuracy = tf.reduce_mean(tf.cast(prediction, tf.float32))\r\n",
        "\r\n",
        "\r\n",
        "#\r\n",
        "sess = tf.Session()\r\n",
        "sess.run(tf.global_variables_initializer())\r\n",
        "\r\n",
        "for epoch in range(training_epochs):\r\n",
        "    avg_cost = 0\r\n",
        "    total_batch = int(mnist.train.num_examples / batch_size)\r\n",
        "    \r\n",
        "    pbar = tqdm(range(total_batch))\r\n",
        "    for i in pbar:\r\n",
        "        batch_xs, batch_ys = mnist.train.next_batch(batch_size)\r\n",
        "        c, _ = sess.run([cost, optimizer], feed_dict={X: batch_xs, Y: batch_ys})\r\n",
        "        avg_cost += c / total_batch\r\n",
        "        pbar.set_description(\"cost : %f\" % avg_cost)\r\n",
        "      \r\n",
        "#  \r\n",
        "print(\"Accuracy: \", sess.run(accuracy, feed_dict={X: mnist.test.images, Y: mnist.test.labels}))"
      ],
      "outputs": [
        {
          "output_type": "stream",
          "name": "stderr",
          "text": [
            "UsageError: Line magic function `%tensorflow_version` not found.\n"
          ]
        }
      ],
      "metadata": {
        "colab": {
          "base_uri": "https://localhost:8080/"
        },
        "id": "cK6Hw2ruWuho",
        "outputId": "2df8b31b-516d-4e8b-eda2-33ba91abd65d"
      }
    }
  ]
}