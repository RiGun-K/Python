{
 "cells": [
  {
   "cell_type": "code",
   "execution_count": 2,
   "source": [
    "import numpy as np\r\n",
    "import tensorflow as tf\r\n",
    "    # 데이터 불러오기\r\n",
    "from tensorflow.keras.datasets import mnist\r\n",
    "from tensorflow.keras.models import Sequential\r\n",
    "from tensorflow.keras.layers import Conv2D, MaxPool2D\r\n",
    "from tensorflow.keras.layers import Flatten, Dense, Dropout\r\n",
    "\r\n",
    "(x_train, y_train), (x_test, y_test) = mnist.load_data()\r\n",
    "\r\n",
    "x_train = x_train.reshape(-1, 28, 28, 1) # 텐서로 변환, 높이, 너비, 채널\r\n",
    "x_test = x_test.reshape(-1, 28, 28, 1)\r\n",
    "\r\n",
    "print(x_train.shape, x_test.shape)\r\n",
    "print(y_train.shape, y_test.shape)\r\n",
    "\r\n",
    "    # 255.0 정규화\r\n",
    "x_train = x_train.astype(np.float32)\r\n",
    "x_test = x_test.astype(np.float32)"
   ],
   "outputs": [
    {
     "output_type": "stream",
     "name": "stdout",
     "text": [
      "(60000, 28, 28, 1) (10000, 28, 28, 1)\n",
      "(60000,) (10000,)\n"
     ]
    }
   ],
   "metadata": {}
  },
  {
   "cell_type": "code",
   "execution_count": 3,
   "source": [
    "# CNN 모델구축\r\n",
    "cnn = Sequential()\r\n",
    "\r\n",
    "cnn.add(Conv2D(input_shape=(28,28,1), kernel_size=(3,3), filters=32, activation='relu'))\r\n",
    "cnn.add(Conv2D(kernel_size=(3,3), filters=64, activation='relu'))\r\n",
    "cnn.add(MaxPool2D(pool_size=(2,2)))\r\n",
    "cnn.add(Dropout(0.25))\r\n",
    "\r\n",
    "cnn.add(Flatten())  # 3차원 텐서를 1차원 벡터로 변환\r\n",
    "\r\n",
    "cnn.add(Dense(128, activation='relu'))  # 은닉층 개념\r\n",
    "cnn.add(Dropout(0.5))\r\n",
    "cnn.add(Dense(10, activation='softmax'))    # 출력층\r\n",
    "\r\n"
   ],
   "outputs": [],
   "metadata": {}
  },
  {
   "cell_type": "code",
   "execution_count": 4,
   "source": [
    "# CNN 모델 컴파일 및 학습\r\n",
    "\r\n",
    "cnn.compile(loss='sparse_categorical_crossentropy', optimizer=tf.keras.optimizers.Adam(), metrics=['accuracy'])\r\n",
    "\r\n",
    "hist = cnn.fit(x_train, y_train, batch_size=128, epochs=30, validation_data=(x_test, y_test))\r\n"
   ],
   "outputs": [
    {
     "output_type": "stream",
     "name": "stdout",
     "text": [
      "Epoch 1/30\n",
      "469/469 [==============================] - 54s 114ms/step - loss: 0.6476 - accuracy: 0.8532 - val_loss: 0.0858 - val_accuracy: 0.9727\n",
      "Epoch 2/30\n",
      "469/469 [==============================] - 56s 119ms/step - loss: 0.1554 - accuracy: 0.9557 - val_loss: 0.0552 - val_accuracy: 0.9830\n",
      "Epoch 3/30\n",
      "469/469 [==============================] - 56s 120ms/step - loss: 0.1087 - accuracy: 0.9684 - val_loss: 0.0395 - val_accuracy: 0.9867\n",
      "Epoch 4/30\n",
      "469/469 [==============================] - 58s 123ms/step - loss: 0.0905 - accuracy: 0.9739 - val_loss: 0.0396 - val_accuracy: 0.9869\n",
      "Epoch 5/30\n",
      "469/469 [==============================] - 62s 131ms/step - loss: 0.0752 - accuracy: 0.9769 - val_loss: 0.0410 - val_accuracy: 0.9871\n",
      "Epoch 6/30\n",
      "469/469 [==============================] - 63s 134ms/step - loss: 0.0674 - accuracy: 0.9796 - val_loss: 0.0380 - val_accuracy: 0.9884\n",
      "Epoch 7/30\n",
      "469/469 [==============================] - 63s 134ms/step - loss: 0.0614 - accuracy: 0.9815 - val_loss: 0.0360 - val_accuracy: 0.9881\n",
      "Epoch 8/30\n",
      "469/469 [==============================] - 60s 128ms/step - loss: 0.0558 - accuracy: 0.9834 - val_loss: 0.0443 - val_accuracy: 0.9883\n",
      "Epoch 9/30\n",
      "469/469 [==============================] - 57s 121ms/step - loss: 0.0521 - accuracy: 0.9837 - val_loss: 0.0368 - val_accuracy: 0.9890\n",
      "Epoch 10/30\n",
      "469/469 [==============================] - 55s 118ms/step - loss: 0.0506 - accuracy: 0.9850 - val_loss: 0.0320 - val_accuracy: 0.9905\n",
      "Epoch 11/30\n",
      "469/469 [==============================] - 57s 121ms/step - loss: 0.0455 - accuracy: 0.9860 - val_loss: 0.0395 - val_accuracy: 0.9900\n",
      "Epoch 12/30\n",
      "469/469 [==============================] - 58s 125ms/step - loss: 0.0432 - accuracy: 0.9865 - val_loss: 0.0347 - val_accuracy: 0.9908\n",
      "Epoch 13/30\n",
      "469/469 [==============================] - 58s 124ms/step - loss: 0.0422 - accuracy: 0.9866 - val_loss: 0.0384 - val_accuracy: 0.9899\n",
      "Epoch 14/30\n",
      "469/469 [==============================] - 63s 135ms/step - loss: 0.0403 - accuracy: 0.9875 - val_loss: 0.0372 - val_accuracy: 0.9909\n",
      "Epoch 15/30\n",
      "469/469 [==============================] - 63s 134ms/step - loss: 0.0398 - accuracy: 0.9871 - val_loss: 0.0383 - val_accuracy: 0.9902\n",
      "Epoch 16/30\n",
      "469/469 [==============================] - 62s 133ms/step - loss: 0.0368 - accuracy: 0.9883 - val_loss: 0.0412 - val_accuracy: 0.9899\n",
      "Epoch 17/30\n",
      "469/469 [==============================] - 59s 126ms/step - loss: 0.0342 - accuracy: 0.9894 - val_loss: 0.0399 - val_accuracy: 0.9907\n",
      "Epoch 18/30\n",
      "469/469 [==============================] - 61s 129ms/step - loss: 0.0339 - accuracy: 0.9896 - val_loss: 0.0332 - val_accuracy: 0.9908\n",
      "Epoch 19/30\n",
      "469/469 [==============================] - 59s 126ms/step - loss: 0.0322 - accuracy: 0.9906 - val_loss: 0.0328 - val_accuracy: 0.9918\n",
      "Epoch 20/30\n",
      "469/469 [==============================] - 59s 126ms/step - loss: 0.0302 - accuracy: 0.9902 - val_loss: 0.0316 - val_accuracy: 0.9919\n",
      "Epoch 21/30\n",
      "469/469 [==============================] - 57s 121ms/step - loss: 0.0307 - accuracy: 0.9906 - val_loss: 0.0370 - val_accuracy: 0.9916\n",
      "Epoch 22/30\n",
      "469/469 [==============================] - 54s 116ms/step - loss: 0.0287 - accuracy: 0.9913 - val_loss: 0.0360 - val_accuracy: 0.9922\n",
      "Epoch 23/30\n",
      "469/469 [==============================] - 54s 116ms/step - loss: 0.0280 - accuracy: 0.9910 - val_loss: 0.0402 - val_accuracy: 0.9916\n",
      "Epoch 24/30\n",
      "469/469 [==============================] - 54s 116ms/step - loss: 0.0301 - accuracy: 0.9909 - val_loss: 0.0404 - val_accuracy: 0.9924\n",
      "Epoch 25/30\n",
      "469/469 [==============================] - 54s 116ms/step - loss: 0.0287 - accuracy: 0.9909 - val_loss: 0.0403 - val_accuracy: 0.9913\n",
      "Epoch 26/30\n",
      "469/469 [==============================] - 55s 118ms/step - loss: 0.0266 - accuracy: 0.9921 - val_loss: 0.0374 - val_accuracy: 0.9912\n",
      "Epoch 27/30\n",
      "469/469 [==============================] - 55s 116ms/step - loss: 0.0221 - accuracy: 0.9928 - val_loss: 0.0406 - val_accuracy: 0.9909\n",
      "Epoch 28/30\n",
      "469/469 [==============================] - 54s 116ms/step - loss: 0.0261 - accuracy: 0.9921 - val_loss: 0.0462 - val_accuracy: 0.9918\n",
      "Epoch 29/30\n",
      "469/469 [==============================] - 57s 121ms/step - loss: 0.0258 - accuracy: 0.9925 - val_loss: 0.0412 - val_accuracy: 0.9911\n",
      "Epoch 30/30\n",
      "469/469 [==============================] - 57s 122ms/step - loss: 0.0220 - accuracy: 0.9930 - val_loss: 0.0443 - val_accuracy: 0.9926\n"
     ]
    }
   ],
   "metadata": {}
  },
  {
   "cell_type": "code",
   "execution_count": 5,
   "source": [
    "cnn.evaluate(x_test, y_test)    # 모델 정확도 평가"
   ],
   "outputs": [
    {
     "output_type": "stream",
     "name": "stdout",
     "text": [
      "313/313 [==============================] - 2s 8ms/step - loss: 0.0443 - accuracy: 0.9926\n"
     ]
    },
    {
     "output_type": "execute_result",
     "data": {
      "text/plain": [
       "[0.04427040368318558, 0.9926000237464905]"
      ]
     },
     "metadata": {},
     "execution_count": 5
    }
   ],
   "metadata": {}
  },
  {
   "cell_type": "code",
   "execution_count": 6,
   "source": [
    "# 정확도 및 손실 1\r\n",
    "import matplotlib.pyplot as plt\r\n",
    "\r\n",
    "plt.plot(hist.history['accuracy'])\r\n",
    "plt.plot(hist.history['val_accuracy'])\r\n",
    "plt.title('Accuracy Trend')\r\n",
    "plt.ylabel('accuracy')\r\n",
    "plt.xlabel('epoch')\r\n",
    "plt.legend(['train', 'validation'], loc='best')\r\n",
    "\r\n",
    "plt.grid()\r\n",
    "plt.show()"
   ],
   "outputs": [
    {
     "output_type": "display_data",
     "data": {
      "image/png": "[encoded data removed]",
      "text/plain": [
       "<Figure size 432x288 with 1 Axes>"
      ]
     },
     "metadata": {
      "needs_background": "light"
     }
    }
   ],
   "metadata": {}
  },
  {
   "cell_type": "code",
   "execution_count": 7,
   "source": [
    "# 정확도 및 손실 2\r\n",
    "plt.plot(hist.history['loss'])\r\n",
    "plt.plot(hist.history['val_loss'])\r\n",
    "plt.title('Loss Trend')\r\n",
    "plt.ylabel('loss')\r\n",
    "plt.xlabel('epoch')\r\n",
    "plt.legend(['train', 'validation'], loc='best')\r\n",
    "\r\n",
    "plt.grid()\r\n",
    "plt.show()"
   ],
   "outputs": [
    {
     "output_type": "display_data",
     "data": {
      "image/png": "[encoded data removed]",
      "text/plain": [
       "<Figure size 432x288 with 1 Axes>"
      ]
     },
     "metadata": {
      "needs_background": "light"
     }
    }
   ],
   "metadata": {}
  }
 ],
 "metadata": {
  "orig_nbformat": 4,
  "language_info": {
   "name": "python",
   "version": "3.10.1",
   "mimetype": "text/x-python",
   "codemirror_mode": {
    "name": "ipython",
    "version": 3
   },
   "pygments_lexer": "ipython3",
   "nbconvert_exporter": "python",
   "file_extension": ".py"
  },
  "kernelspec": {
   "name": "python3",
   "display_name": "Python 3.10.1 64-bit"
  },
  "interpreter": {
   "hash": "0d060ebac2c08c844013566ec54696de7f7311bfac1f8c4d9f042287abd1f1ea"
  }
 },
 "nbformat": 4,
 "nbformat_minor": 2
}