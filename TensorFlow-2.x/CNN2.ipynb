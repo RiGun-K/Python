{
 "cells": [
  {
   "cell_type": "code",
   "execution_count": null,
   "source": [
    "import numpy as np\r\n",
    "import matplotlib.pyplot as plt\r\n",
    "import tensorflow as tf\r\n",
    "from tensorflow.keras.datasets import cifar10\r\n",
    "from tensorflow.keras.models import Sequential\r\n",
    "from tensorflow.keras.layers import Conv2D, MaxPool2D\r\n",
    "from tensorflow.keras.layers import Flatten, Dense, Dropout\r\n",
    "\r\n",
    "#######################################\r\n",
    "# 32x32 픽셀의 6만개 컬러이미지 포함\r\n",
    "# 각 이미지는 10개의 클래스로 라벨링\r\n",
    "# 50000개 이미지는 트레이닝 용도로 사용\r\n",
    "# 10000개 이미지는 테스트 용도로 사용\r\n",
    "#######################################\r\n",
    "\r\n",
    "(x_train, y_train), (x_test, y_test) = cifar10.load_data()\r\n",
    "\r\n",
    "x_train = x_train.reshape(-1, 32, 32, 3) # 텐서로 변환, 높이, 너비, 채널\r\n",
    "x_test = x_test.reshape(-1, 32, 32, 3)\r\n",
    "\r\n",
    "print(x_train.shape, x_test.shape)\r\n",
    "print(y_train.shape, y_test.shape)\r\n",
    "\r\n",
    "  # 정규화 작업 전에 데이터 샘플 출력\r\n",
    "\r\n",
    "class_names = ['airplane', 'automobile', 'bird', 'cat', 'deer', 'dog', 'frog', 'horse', 'ship', 'truck']\r\n",
    "\r\n",
    "print(\"Train samples:\", x_train.shape, y_train.shape)\r\n",
    "print(\"Test samples:\", x_test.shape, y_test.shape)\r\n",
    "\r\n",
    "plt.figure(figsize=(10,10))\r\n",
    "for i in range(25):\r\n",
    "  plt.subplot(5, 5, i+1)\r\n",
    "  plt.xticks([])\r\n",
    "  plt.yticks([])\r\n",
    "  plt.grid(False)\r\n",
    "  plt.imshow(x_train[i])\r\n",
    "  plt.xlabel(class_names[y_train[i][0]])\r\n",
    "plt.show()\r\n",
    "\r\n",
    "    # 정규화 작업은 class_names 의 값들이 출력이된후 작업해야 함 ! \r\n",
    "    # 아니면 다 깨짐\r\n",
    "\r\n",
    "    # 255.0 정규화\r\n",
    "x_train = x_train.astype(np.float32)\r\n",
    "x_test = x_test.astype(np.float32)"
   ],
   "outputs": [],
   "metadata": {}
  },
  {
   "cell_type": "code",
   "execution_count": null,
   "source": [
    "# CNN 모델구축\r\n",
    "cnn = Sequential()\r\n",
    "\r\n",
    "cnn.add(Conv2D(input_shape=(32,32,3), kernel_size=(3,3), filters=32, activation='relu'))\r\n",
    "cnn.add(Conv2D(kernel_size=(3,3), filters=64, activation='relu'))\r\n",
    "cnn.add(MaxPool2D(pool_size=(2,2)))\r\n",
    "cnn.add(Dropout(0.25))\r\n",
    "\r\n",
    "cnn.add(Flatten())  # 3차원 텐서를 1차원 벡터로 변환\r\n",
    "\r\n",
    "cnn.add(Dense(128, activation='relu'))  # 은닉층 개념\r\n",
    "cnn.add(Dropout(0.5))\r\n",
    "cnn.add(Dense(10, activation='softmax'))    # 출력층\r\n",
    "\r\n",
    "\r\n"
   ],
   "outputs": [],
   "metadata": {}
  },
  {
   "cell_type": "code",
   "execution_count": null,
   "source": [
    "# CNN 모델 컴파일 및 학습\r\n",
    "\r\n",
    "cnn.compile(loss='sparse_categorical_crossentropy', optimizer=tf.keras.optimizers.Adam(), metrics=['accuracy'])\r\n",
    "\r\n",
    "hist = cnn.fit(x_train, y_train, batch_size=128, epochs=30, validation_data=(x_test, y_test))\r\n"
   ],
   "outputs": [],
   "metadata": {}
  },
  {
   "cell_type": "code",
   "execution_count": null,
   "source": [
    "cnn.evaluate(x_test, y_test)    # 모델 정확도 평가"
   ],
   "outputs": [],
   "metadata": {}
  },
  {
   "cell_type": "code",
   "execution_count": null,
   "source": [
    "# 정확도 및 손실 1\r\n",
    "import matplotlib.pyplot as plt\r\n",
    "\r\n",
    "plt.plot(hist.history['accuracy'])\r\n",
    "plt.plot(hist.history['val_accuracy'])\r\n",
    "plt.title('Accuracy Trend')\r\n",
    "plt.ylabel('accuracy')\r\n",
    "plt.xlabel('epoch')\r\n",
    "plt.legend(['train', 'validation'], loc='best')\r\n",
    "\r\n",
    "plt.grid()\r\n",
    "plt.show()"
   ],
   "outputs": [],
   "metadata": {}
  },
  {
   "cell_type": "code",
   "execution_count": null,
   "source": [
    "# 정확도 및 손실 2\r\n",
    "plt.plot(hist.history['loss'])\r\n",
    "plt.plot(hist.history['val_loss'])\r\n",
    "plt.title('Loss Trend')\r\n",
    "plt.ylabel('loss')\r\n",
    "plt.xlabel('epoch')\r\n",
    "plt.legend(['train', 'validation'], loc='best')\r\n",
    "\r\n",
    "plt.grid()\r\n",
    "plt.show()"
   ],
   "outputs": [],
   "metadata": {}
  }
 ],
 "metadata": {
  "orig_nbformat": 4,
  "language_info": {
   "name": "python"
  }
 },
 "nbformat": 4,
 "nbformat_minor": 2
}