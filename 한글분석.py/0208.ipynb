{
 "cells": [
  {
   "cell_type": "code",
   "execution_count": 1,
   "source": [
    "!pip install konlpy"
   ],
   "outputs": [
    {
     "output_type": "stream",
     "name": "stdout",
     "text": [
      "Requirement already satisfied: konlpy in c:\\users\\rigun\\anaconda3\\lib\\site-packages (0.6.0)\n",
      "Requirement already satisfied: lxml>=4.1.0 in c:\\users\\rigun\\anaconda3\\lib\\site-packages (from konlpy) (4.6.3)\n",
      "Requirement already satisfied: JPype1>=0.7.0 in c:\\users\\rigun\\anaconda3\\lib\\site-packages (from konlpy) (1.3.0)\n",
      "Requirement already satisfied: numpy>=1.6 in c:\\users\\rigun\\anaconda3\\lib\\site-packages (from konlpy) (1.20.3)\n"
     ]
    }
   ],
   "metadata": {}
  },
  {
   "cell_type": "code",
   "execution_count": null,
   "source": [
    "import json\r\n",
    "import re\r\n",
    "from konlpy.tag import Okt  # Okt - 한글 품사 태깅을 위한 모듈\r\n",
    "from collections import Counter\r\n",
    "import matplotlib\r\n",
    "import matplotlib.pyplot as plt\r\n",
    "from matplotlib import font_manager, rc\r\n",
    "from wordcloud import WordColoud"
   ],
   "outputs": [],
   "metadata": {}
  },
  {
   "cell_type": "code",
   "execution_count": null,
   "source": [
    "inputFileName = ''\r\n",
    "data = json.loads(open(inputFileName+'.json', 'r', enconding='utf8').read()) # json 파일을 읽어서 객체에 저장\r\n",
    "data # 출력하여 내용 확인"
   ],
   "outputs": [],
   "metadata": {}
  },
  {
   "cell_type": "code",
   "execution_count": null,
   "source": [
    "# 'message' 키의 값(뉴스 본문 내용)에서 문자나 숫자가 아닌것 (r'[^\\w])은 \r\n",
    "# 공백으로 치환(re.sub())하여 제거하면서 연결하여 전체를 하나의 문자열로 구성 \r\n",
    "message = ''\r\n",
    "for item in data:\r\n",
    "    if 'message' in item.keys():\r\n",
    "        message = message + re.sub(r'[^\\w]', ' ', item['message']) + ''\r\n",
    "message #출력하여 내용 확인"
   ],
   "outputs": [],
   "metadata": {}
  },
  {
   "cell_type": "code",
   "execution_count": null,
   "source": [
    "# 품사 태깅 패키지인 Okt를 사용하여 명사만 추출해 (nlp.nouns()) message_N에 저장\r\n",
    "nlp = Okt()\r\n",
    "message_N = nlp.nouns(message)\r\n",
    "message_N # \r\n"
   ],
   "outputs": [],
   "metadata": {}
  },
  {
   "cell_type": "code",
   "execution_count": null,
   "source": [
    "# Counter() 함수를 사용하여 단어별 출현 횟수를 계산\r\n",
    "count = Counter(message_N)\r\n",
    "count #"
   ],
   "outputs": [],
   "metadata": {}
  }
 ],
 "metadata": {
  "orig_nbformat": 4,
  "language_info": {
   "name": "python",
   "version": "3.9.7",
   "mimetype": "text/x-python",
   "codemirror_mode": {
    "name": "ipython",
    "version": 3
   },
   "pygments_lexer": "ipython3",
   "nbconvert_exporter": "python",
   "file_extension": ".py"
  },
  "kernelspec": {
   "name": "python3",
   "display_name": "Python 3.9.7 64-bit ('base': conda)"
  },
  "interpreter": {
   "hash": "a5b8fc69b0918128495b51468d38fa10e9f9959590ac5191d46077a8d8623e80"
  }
 },
 "nbformat": 4,
 "nbformat_minor": 2
}